{
 "cells": [
  {
   "cell_type": "markdown",
   "metadata": {},
   "source": [
    "# Benchmarks"
   ]
  },
  {
   "cell_type": "markdown",
   "metadata": {},
   "source": [
    "Let's take a look at how 🤗 Transformer models can be benchmarked, best practices, and already available benchmarks.\n",
    "\n",
    "A notebook explaining in more detail how to benchmark 🤗 Transformer models can be found [here](https://github.com/huggingface/transformers/blob/master/notebooks/05-benchmark.ipynb)."
   ]
  },
  {
   "cell_type": "markdown",
   "metadata": {},
   "source": [
    "## How to benchmark 🤗 Transformer models"
   ]
  },
  {
   "cell_type": "markdown",
   "metadata": {},
   "source": [
    "The classes `PyTorchBenchmark` and `TensorFlowBenchmark` allow to flexibly benchmark 🤗 Transformer models.\n",
    "The benchmark classes allow us to measure the *peak memory usage* and *required time* for both \n",
    "*inference* and *training*. "
   ]
  },
  {
   "cell_type": "markdown",
   "metadata": {},
   "source": [
    "> **NOTE:** Hereby, *inference* is defined by a single forward pass, and *training* is defined by a single forward pass and backward pass."
   ]
  },
  {
   "cell_type": "markdown",
   "metadata": {},
   "source": [
    "The benchmark classes `PyTorchBenchmark` and `TensorFlowBenchmark` expect an object of type `PyTorchBenchmarkArguments` and `TensorFlowBenchmarkArguments`, respectively, for instantiation. `PyTorchBenchmarkArguments` and `TensorFlowBenchmarkArguments` are data classes and contain all relevant configurations for their corresponding benchmark class.\n",
    "In the following example, it is shown how a BERT model of type *bert-base-cased* can be benchmarked."
   ]
  },
  {
   "cell_type": "code",
   "execution_count": null,
   "metadata": {},
   "outputs": [],
   "source": [
    "from transformers import TensorFlowBenchmark, TensorFlowBenchmarkArguments\n",
    "args = TensorFlowBenchmarkArguments(models=[\"bert-base-uncased\"], batch_sizes=[8], sequence_lengths=[8, 32, 128, 512])\n",
    "benchmark = TensorFlowBenchmark(args)"
   ]
  },
  {
   "cell_type": "markdown",
   "metadata": {},
   "source": [
    "Here, three arguments are given to the benchmark argument data classes, namely `models`, `batch_sizes`, and `sequence_lengths`. The argument `models` is required and expects a `list` of model identifiers from the [model hub](https://huggingface.co/models)\n",
    "The `list` arguments `batch_sizes` and `sequence_lengths` define the size of the `input_ids` on which the model is benchmarked. \n",
    "There are many more parameters that can be configured via the benchmark argument data classes. For more detail on these one can either directly consult the files \n",
    "`src/transformers/benchmark/benchmark_args_utils.py`, `src/transformers/benchmark/benchmark_args.py` (for PyTorch) and `src/transformers/benchmark/benchmark_args_tf.py` (for Tensorflow). \n",
    "Alternatively, running the following shell commands from root will print out a descriptive list of all configurable parameters for PyTorch and Tensorflow respectively."
   ]
  },
  {
   "cell_type": "code",
   "execution_count": null,
   "metadata": {},
   "outputs": [],
   "source": [
    "! python examples/benchmarking/run_benchmark_tf.py --help"
   ]
  },
  {
   "cell_type": "markdown",
   "metadata": {},
   "source": [
    "An instantiated benchmark object can then simply be run by calling `benchmark.run()`."
   ]
  },
  {
   "cell_type": "code",
   "execution_count": null,
   "metadata": {},
   "outputs": [
    {
     "data": {
      "text/plain": [
       "====================       INFERENCE - SPEED - RESULT       ====================\n",
       "--------------------------------------------------------------------------------\n",
       "Model Name             Batch Size     Seq Length     Time in s                  \n",
       "--------------------------------------------------------------------------------\n",
       "bert-base-uncased          8               8             0.005\n",
       "bert-base-uncased          8               32            0.008\n",
       "bert-base-uncased          8              128            0.022\n",
       "bert-base-uncased          8              512            0.105\n",
       "--------------------------------------------------------------------------------\n",
       "====================      INFERENCE - MEMORY - RESULT       ====================\n",
       "--------------------------------------------------------------------------------\n",
       "Model Name             Batch Size     Seq Length    Memory in MB \n",
       "--------------------------------------------------------------------------------\n",
       "bert-base-uncased          8               8             1330\n",
       "bert-base-uncased          8               32            1330\n",
       "bert-base-uncased          8              128            1330\n",
       "bert-base-uncased          8              512            1770\n",
       "--------------------------------------------------------------------------------\n",
       "====================        ENVIRONMENT INFORMATION         ====================\n",
       "- transformers_version: 2.11.0\n",
       "- framework: Tensorflow\n",
       "- use_xla: False\n",
       "- framework_version: 2.2.0\n",
       "- python_version: 3.6.10\n",
       "- system: Linux\n",
       "- cpu: x86_64\n",
       "- architecture: 64bit\n",
       "- date: 2020-06-29\n",
       "- time: 09:26:35.617317\n",
       "- fp16: False\n",
       "- use_multiprocessing: True\n",
       "- only_pretrain_model: False\n",
       "- cpu_ram_mb: 32088\n",
       "- use_gpu: True\n",
       "- num_gpus: 1\n",
       "- gpu: TITAN RTX\n",
       "- gpu_ram_mb: 24217\n",
       "- gpu_power_watts: 280.0\n",
       "- gpu_performance_state: 2\n",
       "- use_tpu: False"
      ]
     },
     "execution_count": null,
     "metadata": {},
     "output_type": "execute_result"
    }
   ],
   "source": [
    "results = benchmark.run()\n",
    "print(results)"
   ]
  },
  {
   "cell_type": "markdown",
   "metadata": {},
   "source": [
    "By default, the *time* and the *required memory* for *inference* are benchmarked. \n",
    "In the example output above the first two sections show the result corresponding to *inference time* and *inference memory*. \n",
    "In addition, all relevant information about the computing environment, *e.g.* the GPU type, the system, the library versions, etc... are printed out in the third section under *ENVIRONMENT INFORMATION*.\n",
    "This information can optionally be saved in a *.csv* file when adding the argument `save_to_csv=True` to `PyTorchBenchmarkArguments` and `TensorFlowBenchmarkArguments` respectively.\n",
    "In this case, every section is saved in a separate *.csv* file. The path to each *.csv* file can optionally be defined via the argument data classes.\n",
    "\n",
    "Instead of benchmarking pre-trained models via their model identifier, *e.g.* `bert-base-uncased`, the user can alternatively benchmark an arbitrary configuration of any available model class. \n",
    "In this case, a `list` of configurations must be inserted with the benchmark args as follows."
   ]
  },
  {
   "cell_type": "code",
   "execution_count": null,
   "metadata": {},
   "outputs": [
    {
     "data": {
      "text/plain": [
       "====================       INFERENCE - SPEED - RESULT       ====================\n",
       "--------------------------------------------------------------------------------\n",
       "Model Name             Batch Size     Seq Length       Time in s                  \n",
       "--------------------------------------------------------------------------------\n",
       "bert-base                  8               8             0.005\n",
       "bert-base                  8               32            0.008\n",
       "bert-base                  8              128            0.022\n",
       "bert-base                  8              512            0.106\n",
       "bert-384-hid              8               8             0.005\n",
       "bert-384-hid              8               32            0.007\n",
       "bert-384-hid              8              128            0.018\n",
       "bert-384-hid              8              512            0.064\n",
       "bert-6-lay                 8               8             0.002\n",
       "bert-6-lay                 8               32            0.003\n",
       "bert-6-lay                 8              128            0.0011\n",
       "bert-6-lay                 8              512            0.074\n",
       "--------------------------------------------------------------------------------\n",
       "====================      INFERENCE - MEMORY - RESULT       ====================\n",
       "--------------------------------------------------------------------------------\n",
       "Model Name             Batch Size     Seq Length      Memory in MB \n",
       "--------------------------------------------------------------------------------\n",
       "bert-base                  8               8             1330\n",
       "bert-base                  8               32            1330\n",
       "bert-base                  8              128            1330\n",
       "bert-base                  8              512            1770\n",
       "bert-384-hid              8               8             1330\n",
       "bert-384-hid              8               32            1330\n",
       "bert-384-hid              8              128            1330\n",
       "bert-384-hid              8              512            1540\n",
       "bert-6-lay                 8               8             1330\n",
       "bert-6-lay                 8               32            1330\n",
       "bert-6-lay                 8              128            1330\n",
       "bert-6-lay                 8              512            1540\n",
       "--------------------------------------------------------------------------------\n",
       "====================        ENVIRONMENT INFORMATION         ====================\n",
       "- transformers_version: 2.11.0\n",
       "- framework: Tensorflow\n",
       "- use_xla: False\n",
       "- framework_version: 2.2.0\n",
       "- python_version: 3.6.10\n",
       "- system: Linux\n",
       "- cpu: x86_64\n",
       "- architecture: 64bit\n",
       "- date: 2020-06-29\n",
       "- time: 09:38:15.487125\n",
       "- fp16: False\n",
       "- use_multiprocessing: True\n",
       "- only_pretrain_model: False\n",
       "- cpu_ram_mb: 32088\n",
       "- use_gpu: True\n",
       "- num_gpus: 1\n",
       "- gpu: TITAN RTX\n",
       "- gpu_ram_mb: 24217\n",
       "- gpu_power_watts: 280.0\n",
       "- gpu_performance_state: 2\n",
       "- use_tpu: False"
      ]
     },
     "execution_count": null,
     "metadata": {},
     "output_type": "execute_result"
    }
   ],
   "source": [
    "from transformers import TensorFlowBenchmark, TensorFlowBenchmarkArguments, BertConfig\n",
    "args = TensorFlowBenchmarkArguments(models=[\"bert-base\", \"bert-384-hid\", \"bert-6-lay\"], batch_sizes=[8], sequence_lengths=[8, 32, 128, 512])\n",
    "config_base = BertConfig()\n",
    "config_384_hid = BertConfig(hidden_size=384)\n",
    "config_6_lay = BertConfig(num_hidden_layers=6)\n",
    "benchmark = TensorFlowBenchmark(args, configs=[config_base, config_384_hid, config_6_lay])\n",
    "benchmark.run()"
   ]
  },
  {
   "cell_type": "markdown",
   "metadata": {},
   "source": [
    "Again, *inference time* and *required memory* for *inference* are measured, but this time for customized configurations of the `BertModel` class. This feature can especially be helpful when \n",
    "deciding for which configuration the model should be trained."
   ]
  },
  {
   "cell_type": "markdown",
   "metadata": {},
   "source": [
    "## Benchmark best practices"
   ]
  },
  {
   "cell_type": "markdown",
   "metadata": {},
   "source": [
    "This section lists a couple of best practices one should be aware of when benchmarking a model.\n",
    "\n",
    "- Currently, only single device benchmarking is supported. When benchmarking on GPU, it is recommended that the user \n",
    "  specifies on which device the code should be run by setting the `CUDA_VISIBLE_DEVICES` environment variable in the shell, *e.g.* `export CUDA_VISIBLE_DEVICES=0` before running the code.\n",
    "- The option `no_multi_processing` should only be set to `True` for testing and debugging. To ensure accurate memory measurement it is recommended to run each memory benchmark in a separate process by making sure `no_multi_processing` is set to `True`.\n",
    "- One should always state the environment information when sharing the results of a model benchmark. Results can vary heavily between different GPU devices, library versions, etc., so that benchmark results on their own are not very useful for the community."
   ]
  },
  {
   "cell_type": "markdown",
   "metadata": {},
   "source": [
    "## Sharing your benchmark"
   ]
  },
  {
   "cell_type": "markdown",
   "metadata": {},
   "source": [
    "Previously all available core models (10 at the time) have been benchmarked for *inference time*, across many different settings: using PyTorch, with\n",
    "and without TorchScript, using TensorFlow, with and without XLA. All of those tests were done across CPUs (except for\n",
    "TensorFlow XLA) and GPUs.\n",
    "\n",
    "The approach is detailed in the [following blogpost](https://medium.com/huggingface/benchmarking-transformers-pytorch-and-tensorflow-e2917fb891c2) and the results are available [here](https://docs.google.com/spreadsheets/d/1sryqufw2D0XlUH4sq3e9Wnxu5EAQkaohzrJbd5HdQ_w/edit?usp=sharing).\n",
    "\n",
    "With the new *benchmark* tools, it is easier than ever to share your benchmark results with the community [here](https://github.com/huggingface/transformers/blob/master/examples/benchmarking/README.md)."
   ]
  }
 ],
 "metadata": {},
 "nbformat": 4,
 "nbformat_minor": 4
}
