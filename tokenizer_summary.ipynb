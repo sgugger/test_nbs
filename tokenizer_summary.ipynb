{
 "cells": [
  {
   "cell_type": "code",
   "execution_count": null,
   "metadata": {},
   "outputs": [],
   "source": [
    "# Transformers installation\n",
    "! pip install transformers\n",
    "# To install from source instead of the last release, comment the command above and uncomment the following one.\n",
    "# ! pip install git+https://github.com/huggingface/transformers.git\n"
   ]
  },
  {
   "cell_type": "markdown",
   "metadata": {},
   "source": [
    "# Tokenizer summary"
   ]
  },
  {
   "cell_type": "markdown",
   "metadata": {},
   "source": [
    "In this page, we will have a closer look at tokenization. As we saw in\n",
    "[the preprocessing tutorial](https://huggingface.co/transformers/preprocessing.html), tokenizing a text is splitting it into words or subwords, which then\n",
    "are converted to ids. The second part is pretty straightforward, here we will focus on the first part. More\n",
    "specifically, we will look at the three main different kinds of tokenizers used in 🤗 Transformers:\n",
    "[Byte-Pair Encoding (BPE)](#byte-pair-encoding), [WordPiece](#wordpiece) and\n",
    "[SentencePiece](#sentencepiece), and provide examples of models using each of those.\n",
    "\n",
    "Note that on each model page, you can look at the documentation of the associated tokenizer to know which of those\n",
    "algorithms the pretrained model used. For instance, if we look at `BertTokenizer`, we can see it's\n",
    "using [WordPiece](#wordpiece)."
   ]
  },
  {
   "cell_type": "markdown",
   "metadata": {},
   "source": [
    "## Introduction to tokenization"
   ]
  },
  {
   "cell_type": "markdown",
   "metadata": {},
   "source": [
    "Splitting a text in smaller chunks is a task that's harder than it looks, and there are multiple ways of doing it. For\n",
    "instance, let's look at the sentence \"Don't you love 🤗 Transformers? We sure do.\" A first simple way of tokenizing\n",
    "this text is just to split it by spaces, which would give:\n",
    "\n",
    "\n",
    "    [\"Don't\", \"you\", \"love\", \"🤗\", \"Transformers?\", \"We\", \"sure\", \"do.\"]\n",
    "\n",
    "This is a nice first step, but if we look at the tokens \"Transformers?\" or \"do.\", we can see we can do better. Those\n",
    "will be different than the tokens \"Transformers\" and \"do\" for our model, so we should probably take the punctuation\n",
    "into account. This would give:\n",
    "\n",
    "\n",
    "    [\"Don\", \"'\", \"t\", \"you\", \"love\", \"🤗\", \"Transformers\", \"?\", \"We\", \"sure\", \"do\", \".\"]\n",
    "\n",
    "which is better already. One thing that is annoying though is how it dealt with \"Don't\". \"Don't\" stands for do not, so\n",
    "it should probably be better tokenized as `[\"Do\", \"n't\"]`. This is where things start getting more complicated, and\n",
    "part of the reason each kind of model has its own tokenizer class. Depending on the rules we apply to split our texts\n",
    "into tokens, we'll get different tokenized versions of the same text. And of course, a given pretrained model won't\n",
    "perform properly if you don't use the exact same rules as the persons who pretrained it.\n",
    "\n",
    "[spaCy](https://spacy.io/) and [Moses](http://www.statmt.org/moses/?n=Development.GetStarted) are two popular\n",
    "rule-based tokenizers. On the text above, they'd output something like:\n",
    "\n",
    "\n",
    "    [\"Do\", \"n't\", \"you\", \"love\", \"🤗\", \"Transformers\", \"?\", \"We\", \"sure\", \"do\", \".\"]\n",
    "\n",
    "Space/punctuation-tokenization and rule-based tokenization are both examples of word tokenization, which is splitting a\n",
    "sentence into words. While it's the most intuitive way to separate texts in smaller chunks, it can have a problem when\n",
    "you have a huge corpus: it usually yields a very big vocabulary (the set of all unique tokens used).\n",
    "[Transformer XL](https://huggingface.co/transformers/model_doc/transformerxl.html) for instance uses space/punctuation-tokenization, and has a vocabulary\n",
    "size of 267,735!\n",
    "\n",
    "A huge vocabulary size means a huge embedding matrix at the start of the model, which will cause memory problems.\n",
    "TransformerXL deals with it by using a special kind of embeddings called adaptive embeddings, but in general,\n",
    "transformers models rarely have a vocabulary size greater than 50,000, especially if they are trained on a single\n",
    "language.\n",
    "\n",
    "So if tokenizing on words is unsatisfactory, we could go on the opposite direction and simply tokenize on characters.\n",
    "While it's very simple and would save a lot of memory, this doesn't allow the model to learn representations of texts\n",
    "as meaningful as when using a word tokenization, leading to a loss of performance. So to get the best of both worlds,\n",
    "all transformers models use a hybrid between word-level and character-level tokenization called subword tokenization."
   ]
  },
  {
   "cell_type": "markdown",
   "metadata": {},
   "source": [
    "### Subword tokenization"
   ]
  },
  {
   "cell_type": "markdown",
   "metadata": {},
   "source": [
    "Subword tokenization algorithms rely on the principle that most common words should be left as is, but rare words\n",
    "should be decomposed in meaningful subword units. For instance \"annoyingly\" might be considered a rare word and\n",
    "decomposed as \"annoying\" and \"ly\". This is especially useful in agglutinative languages such as Turkish, where you can\n",
    "form (almost) arbitrarily long complex words by stringing together some subwords.\n",
    "\n",
    "This allows the model to keep a reasonable vocabulary while still learning useful representations for common words or\n",
    "subwords. This also enables the model to process words it has never seen before, by decomposing them into\n",
    "subwords it knows. For instance, the base `BertTokenizer` will tokenize \"I have a new GPU!\" like\n",
    "this:"
   ]
  },
  {
   "cell_type": "code",
   "execution_count": null,
   "metadata": {},
   "outputs": [
    {
     "data": {
      "text/plain": [
       "['i', 'have', 'a', 'new', 'gp', '##u', '!']"
      ]
     },
     "execution_count": null,
     "metadata": {},
     "output_type": "execute_result"
    }
   ],
   "source": [
    "from transformers import BertTokenizer\n",
    "tokenizer = BertTokenizer.from_pretrained('bert-base-uncased')\n",
    "tokenizer.tokenize(\"I have a new GPU!\")"
   ]
  },
  {
   "cell_type": "markdown",
   "metadata": {},
   "source": [
    "Since we are considering the uncased model, the sentence was lowercased first. Then all the words were present in the\n",
    "vocabulary of the tokenizer, except for \"gpu\", so the tokenizer split it in subwords it knows: \"gp\" and \"##u\". The \"##\"\n",
    "means that the rest of the token should be attached to the previous one, without space (for when we need to decode\n",
    "predictions and reverse the tokenization).\n",
    "\n",
    "Another example is when we use the base `XLNetTokenizer` to tokenize our previous text:"
   ]
  },
  {
   "cell_type": "code",
   "execution_count": null,
   "metadata": {},
   "outputs": [
    {
     "data": {
      "text/plain": [
       "['▁Don', \"'\", 't', '▁you', '▁love', '▁', '🤗', '▁', 'Transform', 'ers', '?', '▁We', '▁sure', '▁do', '.']"
      ]
     },
     "execution_count": null,
     "metadata": {},
     "output_type": "execute_result"
    }
   ],
   "source": [
    "from transformers import XLNetTokenizer\n",
    "tokenizer = XLNetTokenizer.from_pretrained('xlnet-base-cased')\n",
    "tokenizer.tokenize(\"Don't you love 🤗 Transformers? We sure do.\")"
   ]
  },
  {
   "cell_type": "markdown",
   "metadata": {},
   "source": [
    "We'll get back to the meaning of those '▁' when we look at [SentencePiece](#sentencepiece) but you can see\n",
    "Transformers has been split into \"Transform\" and \"ers\".\n",
    "\n",
    "Let's now look at how the different subword tokenization algorithms work. Note that they all rely on some form of\n",
    "training which is usually done on the corpus the corresponding model will be trained on."
   ]
  },
  {
   "cell_type": "markdown",
   "metadata": {},
   "source": [
    "<a id='byte-pair-encoding'></a>"
   ]
  },
  {
   "cell_type": "markdown",
   "metadata": {},
   "source": [
    "## Byte-Pair Encoding"
   ]
  },
  {
   "cell_type": "markdown",
   "metadata": {},
   "source": [
    "Byte-Pair Encoding was introduced in [this paper](https://arxiv.org/abs/1508.07909). It relies on a pretokenizer\n",
    "splitting the training data into words, which can be a simple space tokenization\n",
    "([GPT-2](https://huggingface.co/transformers/model_doc/gpt2.html) and [Roberta](https://huggingface.co/transformers/model_doc/roberta.html) uses this for instance) or a rule-based tokenizer\n",
    "([XLM](https://huggingface.co/transformers/model_doc/xlm.html) use Moses for most languages, as does [FlauBERT](https://huggingface.co/transformers/model_doc/flaubert.html)),\n",
    "\n",
    "[GPT](https://huggingface.co/transformers/model_doc/gpt.html) uses Spacy and ftfy, and counts the frequency of each word in the training corpus.\n",
    "\n",
    "It then begins from the list of all characters, and will learn merge rules to form a new token from two symbols in the\n",
    "vocabulary until it has learned a vocabulary of the desired size (this is a hyperparameter to pick).\n",
    "\n",
    "Let's say that after the pre-tokenization we have the following words (the number indicating the frequency of each\n",
    "word):\n",
    "\n",
    "\n",
    "    ('hug', 10), ('pug', 5), ('pun', 12), ('bun', 4), ('hugs', 5)\n",
    "\n",
    "Then the base vocabulary is ['b', 'g', 'h', 'n', 'p', 's', 'u'] and all our words are first split by character:\n",
    "\n",
    "\n",
    "    ('h' 'u' 'g', 10), ('p' 'u' 'g', 5), ('p' 'u' 'n', 12), ('b' 'u' 'n', 4), ('h' 'u' 'g' 's', 5)\n",
    "\n",
    "We then take each pair of symbols and look at the most frequent. For instance 'hu' is present *10 + 5 = 15* times (10\n",
    "times in the 10 occurrences of 'hug', 5 times in the 5 occurrences of 'hugs'). The most frequent here is 'ug', present\n",
    "*10 + 5 + 2 + 5 = 22* times in total. So the first merge rule the tokenizer learns is to group all 'u' and 'g' together\n",
    "then it adds 'ug' to the vocabulary. Our corpus then becomes\n",
    "\n",
    "\n",
    "    ('h' 'ug', 10), ('p' 'ug', 5), ('p' 'u' 'n', 12), ('b' 'u' 'n', 4), ('h' 'ug' 's', 5)\n",
    "\n",
    "and we continue by looking at the next most common pair of symbols. It's 'un', present 16 times, so we merge those two\n",
    "and add 'un' to the vocabulary. Then it's 'hug' (as 'h' + 'ug'), present 15 times, so we merge those two and add 'hug'\n",
    "to the vocabulary.\n",
    "\n",
    "At this stage, the vocabulary is `['b', 'g', 'h', 'n', 'p', 's', 'u', 'ug', 'un', 'hug']` and our corpus is\n",
    "represented as\n",
    "\n",
    "\n",
    "    ('hug', 10), ('p' 'ug', 5), ('p' 'un', 12), ('b' 'un', 4), ('hug' 's', 5)\n",
    "\n",
    "If we stop there, the tokenizer can apply the rules it learned to new words (as long as they don't contain characters that\n",
    "were not in the base vocabulary). For instance 'bug' would be tokenized as `['b', 'ug']` but mug would be tokenized as\n",
    "`['<unk>', 'ug']` since the 'm' is not in the base vocabulary. This doesn't happen to letters in general (since the\n",
    "base corpus uses all of them), but to special characters like emojis.\n",
    "\n",
    "As we said before, the vocabulary size (which is the base vocabulary size + the number of merges) is a hyperparameter\n",
    "to choose. For instance [GPT](https://huggingface.co/transformers/model_doc/gpt.html) has a vocabulary size of 40,478 since they have 478 base characters\n",
    "and chose to stop the training of the tokenizer at 40,000 merges."
   ]
  },
  {
   "cell_type": "markdown",
   "metadata": {},
   "source": [
    "### Byte-level BPE"
   ]
  },
  {
   "cell_type": "markdown",
   "metadata": {},
   "source": [
    "To deal with the fact the base vocabulary needs to get all base characters, which can be quite big if one allows for\n",
    "all unicode characters, the\n",
    "[GPT-2 paper](https://cdn.openai.com/better-language-models/language_models_are_unsupervised_multitask_learners.pdf)\n",
    "introduces a clever trick, which is to use bytes as the base vocabulary (which gives a size of 256). With some\n",
    "additional rules to deal with punctuation, this manages to be able to tokenize every text without needing an unknown\n",
    "token. For instance, the [GPT-2 model](https://huggingface.co/transformers/model_doc/gpt.html) has a vocabulary size of 50,257, which corresponds to the\n",
    "256 bytes base tokens, a special end-of-text token and the symbols learned with 50,000 merges."
   ]
  },
  {
   "cell_type": "markdown",
   "metadata": {},
   "source": [
    "<a id='wordpiece'></a>"
   ]
  },
  {
   "cell_type": "markdown",
   "metadata": {},
   "source": [
    "#### WordPiece"
   ]
  },
  {
   "cell_type": "markdown",
   "metadata": {},
   "source": [
    "WordPiece is the subword tokenization algorithm used for [BERT](https://huggingface.co/transformers/model_doc/bert.html) (as well as\n",
    "[DistilBERT](https://huggingface.co/transformers/model_doc/distilbert.html) and [Electra](https://huggingface.co/transformers/model_doc/electra.html)) and was outlined in\n",
    "[this paper](https://static.googleusercontent.com/media/research.google.com/ja//pubs/archive/37842.pdf). It relies\n",
    "on the same base as BPE, which is to initialize the vocabulary to every character present in the corpus and\n",
    "progressively learn a given number of merge rules, the difference is that it doesn't choose the pair that is the most\n",
    "frequent but the one that will maximize the likelihood on the corpus once merged.\n",
    "\n",
    "What does this mean? Well, in the previous example, it means we would only merge 'u' and 'g' if the probability of\n",
    "having 'ug' divided by the probability of having 'u' then 'g' is greater than for any other pair of symbols. It's\n",
    "subtly different from what BPE does in the sense that it evaluates what it \"loses\" by merging two symbols and makes\n",
    "sure it's *worth it*."
   ]
  },
  {
   "cell_type": "markdown",
   "metadata": {},
   "source": [
    "<a id='unigram'></a>"
   ]
  },
  {
   "cell_type": "markdown",
   "metadata": {},
   "source": [
    "#### Unigram"
   ]
  },
  {
   "cell_type": "markdown",
   "metadata": {},
   "source": [
    "Unigram is a subword tokenization algorithm introduced in [this paper](https://arxiv.org/pdf/1804.10959.pdf).\n",
    "Instead of starting with a group of base symbols and learning merges with some rule, like BPE or WordPiece, it starts\n",
    "from a large vocabulary (for instance, all pretokenized words and the most common substrings) that it will trim down\n",
    "progressively. It's not used directly for any of the pretrained models in the library, but it's used in conjunction\n",
    "with [SentencePiece](#sentencepiece).\n",
    "\n",
    "More specifically, at a given step, unigram computes a loss from the corpus we have and the current vocabulary, then,\n",
    "for each subword, evaluate how much the loss would augment if the subword was removed from the vocabulary. It then\n",
    "sorts the subwords by this quantity (that represents how worse the loss becomes if the token is removed) and removes\n",
    "all the worst p tokens (for instance p could be 10% or 20%). It then repeats the process until the vocabulary has\n",
    "reached the desired size, always keeping the base characters (to be able to tokenize any word written with them, like\n",
    "BPE or WordPiece).\n",
    "\n",
    "Contrary to BPE and WordPiece that work out rules in a certain order that you can then apply in the same order when\n",
    "tokenizing new text, Unigram will have several ways of tokenizing a new text. For instance, if it ends up with the\n",
    "vocabulary\n",
    "\n",
    "\n",
    "    ['b', 'g', 'h', 'n', 'p', 's', 'u', 'ug', 'un', 'hug']\n",
    "\n",
    "we had before, it could tokenize \"hugs\" as `['hug', 's']`, `['h', 'ug', 's']` or `['h', 'u', 'g', 's']`. So which\n",
    "one choose? On top of saving the vocabulary, the trained tokenizer will save the probability of each token in the\n",
    "training corpus. You can then give a probability to each tokenization (which is the product of the probabilities of the\n",
    "tokens forming it) and pick the most likely one (or if you want to apply some data augmentation, you could sample one\n",
    "of the tokenization according to their probabilities).\n",
    "\n",
    "Those probabilities define the loss that trains the tokenizer: if our corpus consists of the\n",
    "words $x_{1}, \\dots, x_{N}$ and if for the word $x_{i}$ we note $S(x_{i})$ the set of all possible\n",
    "tokenizations of $x_{i}$ (with the current vocabulary), then the loss is defined as"
   ]
  },
  {
   "cell_type": "markdown",
   "metadata": {},
   "source": [
    "$$\\mathcal{L} = -\\sum_{i=1}^{N} \\log \\left ( \\sum_{x \\in S(x_{i})} p(x) \\right )$$"
   ]
  },
  {
   "cell_type": "markdown",
   "metadata": {},
   "source": [
    "<a id='sentencepiece'></a>"
   ]
  },
  {
   "cell_type": "markdown",
   "metadata": {},
   "source": [
    "#### SentencePiece"
   ]
  },
  {
   "cell_type": "markdown",
   "metadata": {},
   "source": [
    "All the methods we have been looking at so far required some form of pretokenization, which has a central problem: not\n",
    "all languages use spaces to separate words. This is a problem [XLM](https://huggingface.co/transformers/model_doc/xlm.html) solves by using specific\n",
    "pretokenizers for each of those languages (in this case, Chinese, Japanese and Thai). To solve this problem,\n",
    "SentencePiece (introduced in [this paper](https://arxiv.org/pdf/1808.06226.pdf)) treats the input as a raw stream,\n",
    "includes the space in the set of characters to use, then uses BPE or unigram to construct the appropriate vocabulary.\n",
    "\n",
    "That's why in the example we saw before using `XLNetTokenizer` (which uses SentencePiece), we had\n",
    "the '▁' character, that represents space. Decoding a tokenized text is then super easy: we just have to concatenate\n",
    "all of them together and replace '▁' with space.\n",
    "\n",
    "All transformers models in the library that use SentencePiece use it with unigram. Examples of models using it are\n",
    "[ALBERT](https://huggingface.co/transformers/model_doc/albert.html), [XLNet](https://huggingface.co/transformers/model_doc/xlnet.html) or the [Marian framework](https://huggingface.co/transformers/model_doc/marian.html)."
   ]
  }
 ],
 "metadata": {},
 "nbformat": 4,
 "nbformat_minor": 4
}
